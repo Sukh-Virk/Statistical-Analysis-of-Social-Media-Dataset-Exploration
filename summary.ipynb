{
 "cells": [
  {
   "cell_type": "code",
   "execution_count": null,
   "metadata": {},
   "outputs": [],
   "source": [
    "import pandas as pd"
   ]
  },
  {
   "cell_type": "code",
   "execution_count": null,
   "metadata": {},
   "outputs": [],
   "source": [
    "def calculate_statistics(file):\n",
    "    data = pd.read_csv(file)\n",
    "    \n",
    "\n",
    "    mean1 = data['x'].mean()\n",
    "    mean2 = data['y'].mean()\n",
    "    std1= data['x'].std()\n",
    "    std2 = data['y'].std()\n",
    "    min1 =  data['x'].min()\n",
    "    max1 = data['x'].max() \n",
    "    min2 = data['y'].min()\n",
    "    max2 = data['y'].max()\n",
    "    corr = data['x'].corr(data['y'])\n",
    "    \n",
    "    print(f\"Summary for {file}:\")\n",
    "    print(f\"  Mean (x): {mean1}, Mean (y): {mean2}\")\n",
    "    print(f\"  Std Dev (x): {std1}, Std Dev (y): {std2}\")\n",
    "    print(f\"  Min (x): {min1}, Max (x): {max1}\")\n",
    "    print(f\"  Min (y): {min2}, Max (y): {max2}\")\n",
    "    print(f\"  Correlation (x, y): {corr}\")\n",
    "    print()\n"
   ]
  },
  {
   "cell_type": "code",
   "execution_count": null,
   "metadata": {},
   "outputs": [],
   "source": [
    "calculate_statistics(\"data-1.csv\")\n",
    "print(\"  data-1 We can see a positive correlation as it is close to positive 1 and the x values range more than the y values\")\n",
    "print(\"\")\n",
    "calculate_statistics(\"data-2.csv\")\n",
    "print(\" data2- Again another positive correlation both have low means and again x has more of a range than y\")\n",
    "print(\"\")\n",
    "calculate_statistics(\"data-3.csv\")\n",
    "print(\" data3- Even higher correlation at .96 and y has a larger mean.\")\n",
    "print(\"\")\n",
    "calculate_statistics(\"data-4.csv\")\n",
    "print(\" data4 -Our first data set with a negative correlation x with weak correlation x has a wider range\")\n",
    "print(\"\")\n",
    "calculate_statistics(\"data-5.csv\")\n",
    "print(\" data5- Our Second data set with a negative correlation x with weak correlation x as it is far away from -1\")\n",
    "print(\"\")\n",
    "\n",
    "calculate_statistics(\"data-6.csv\")\n",
    "print(\" data6- Positive correlation and strong correlation both have similar ranges but y range is larger\")\n",
    "print(\"\")"
   ]
  }
 ],
 "metadata": {
  "kernelspec": {
   "display_name": "Python 3",
   "language": "python",
   "name": "python3"
  },
  "language_info": {
   "codemirror_mode": {
    "name": "ipython",
    "version": 3
   },
   "file_extension": ".py",
   "mimetype": "text/x-python",
   "name": "python",
   "nbconvert_exporter": "python",
   "pygments_lexer": "ipython3",
   "version": "3.10.0"
  }
 },
 "nbformat": 4,
 "nbformat_minor": 2
}
